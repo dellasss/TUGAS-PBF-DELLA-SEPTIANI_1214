{
  "nbformat": 4,
  "nbformat_minor": 0,
  "metadata": {
    "colab": {
      "provenance": []
    },
    "kernelspec": {
      "name": "python3",
      "display_name": "Python 3"
    },
    "language_info": {
      "name": "python"
    }
  },
  "cells": [
    {
      "cell_type": "markdown",
      "source": [
        "DELLA SEPTIANI\\\n",
        "121450109\\\n",
        "RB"
      ],
      "metadata": {
        "id": "KM3eI5ohP0MN"
      }
    },
    {
      "cell_type": "code",
      "execution_count": 1,
      "metadata": {
        "colab": {
          "base_uri": "https://localhost:8080/"
        },
        "id": "omYvPU2aOfJM",
        "outputId": "b3ce2c90-4a83-47da-a1ba-b35ae8b86487"
      },
      "outputs": [
        {
          "output_type": "stream",
          "name": "stdout",
          "text": [
            "Masukkan Password Anda : della\n",
            "Password awal Anda : della\n",
            "Password terenkripsi : Sf-Sg-TT+TT+Sc-\n"
          ]
        }
      ],
      "source": [
        "def encryption(password):\n",
        "    result = \"\"\n",
        "    for char in password:\n",
        "        ascii = ord(char)  \n",
        "        value1 = (ascii / 26) + 80     \n",
        "        value2 = (ascii % 26) + 80    \n",
        "\n",
        "        if value1 > value2:  \n",
        "            value3 = \"+\"\n",
        "        else:\n",
        "            value3 = \"-\"\n",
        "        result += chr(int(value1)) + chr(int(value2)) + value3 \n",
        "    return result\n",
        "\n",
        "password = input(\"Masukkan Password Anda : \")\n",
        "if len(password) > 100:\n",
        "    print(\" Password anda eror karena terlalu panjang.\")\n",
        "else:\n",
        "    encrypted_password = encryption(password)\n",
        "    print(\"Password awal Anda : \" + password)\n",
        "    print(\"Password terenkripsi : \" + encrypted_password)"
      ]
    }
  ]
}